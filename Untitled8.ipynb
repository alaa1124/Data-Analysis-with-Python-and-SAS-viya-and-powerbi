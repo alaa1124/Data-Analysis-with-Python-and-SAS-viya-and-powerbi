{
  "nbformat": 4,
  "nbformat_minor": 0,
  "metadata": {
    "colab": {
      "provenance": [],
      "authorship_tag": "ABX9TyPtrZVLm53iquldxBsAi3C2",
      "include_colab_link": true
    },
    "kernelspec": {
      "name": "python3",
      "display_name": "Python 3"
    },
    "language_info": {
      "name": "python"
    }
  },
  "cells": [
    {
      "cell_type": "markdown",
      "metadata": {
        "id": "view-in-github",
        "colab_type": "text"
      },
      "source": [
        "<a href=\"https://colab.research.google.com/github/alaa1124/Data-Analysis-with-Python-and-SAS-viya-and-powerbi/blob/main/Untitled8.ipynb\" target=\"_parent\"><img src=\"https://colab.research.google.com/assets/colab-badge.svg\" alt=\"Open In Colab\"/></a>"
      ]
    },
    {
      "cell_type": "code",
      "source": [
        "import math\n",
        "import re\n",
        "import nltk\n",
        "import csv\n",
        "\n",
        "from nltk.corpus import gutenberg, stopwords\n",
        "import random\n",
        "import pandas as pd"
      ],
      "metadata": {
        "id": "AgsrXAXCIvc7"
      },
      "execution_count": 66,
      "outputs": []
    },
    {
      "cell_type": "code",
      "source": [
        "nltk.download('stopwords')\n",
        "nltk.download('punkt')"
      ],
      "metadata": {
        "colab": {
          "base_uri": "https://localhost:8080/"
        },
        "id": "2h_MXNllI1PB",
        "outputId": "a05b2244-3702-4ce8-983e-bbd9347862f5"
      },
      "execution_count": 67,
      "outputs": [
        {
          "output_type": "stream",
          "name": "stderr",
          "text": [
            "[nltk_data] Downloading package stopwords to /root/nltk_data...\n",
            "[nltk_data]   Package stopwords is already up-to-date!\n",
            "[nltk_data] Downloading package punkt to /root/nltk_data...\n",
            "[nltk_data]   Package punkt is already up-to-date!\n"
          ]
        },
        {
          "output_type": "execute_result",
          "data": {
            "text/plain": [
              "True"
            ]
          },
          "metadata": {},
          "execution_count": 67
        }
      ]
    },
    {
      "cell_type": "code",
      "source": [
        "en_stops = set(stopwords.words('english'))\n",
        "from nltk.tokenize import regexp_tokenize"
      ],
      "metadata": {
        "id": "3m4Vr8TlI3Aa"
      },
      "execution_count": 68,
      "outputs": []
    },
    {
      "cell_type": "code",
      "execution_count": 74,
      "metadata": {
        "colab": {
          "base_uri": "https://localhost:8080/"
        },
        "id": "eBlpQhCkId6f",
        "outputId": "e7c87fb9-61b7-4eb0-f876-f0a67afe351e"
      },
      "outputs": [
        {
          "output_type": "stream",
          "name": "stdout",
          "text": [
            "{'austen-emma.txt': '[Emma by Jane Austen 1816]', 'austen-persuasion.txt': '[Persuasion by Jane Austen 1818]', 'austen-sense.txt': '[Sense and Sensibility by Jane Austen 1811]', 'carroll-alice.txt': \"[Alice's Adventures in Wonderland by Lewis Carroll 1865]\", 'chesterton-ball.txt': '[The Ball and The Cross by G.K. Chesterton 1909]', 'chesterton-brown.txt': '[The Wisdom of Father Brown by G. K. Chesterton 1914]', 'chesterton-thursday.txt': '[The Man Who Was Thursday by G. K. Chesterton 1908]', 'edgeworth-parents.txt': \"[The Parent's Assistant, by Maria Edgeworth]\", 'melville-moby_dick.txt': '[Moby Dick by Herman Melville 1851]', 'shakespeare-caesar.txt': '[The Tragedie of Julius Caesar by William Shakespeare 1599]', 'shakespeare-hamlet.txt': '[The Tragedie of Hamlet by William Shakespeare 1599]', 'whitman-leaves.txt': '[Leaves of Grass by Walt Whitman 1855]'}\n"
          ]
        },
        {
          "output_type": "stream",
          "name": "stderr",
          "text": [
            "[nltk_data] Downloading package gutenberg to /root/nltk_data...\n",
            "[nltk_data]   Package gutenberg is already up-to-date!\n"
          ]
        }
      ],
      "source": [
        "import nltk\n",
        "nltk.download('gutenberg')\n",
        "\n",
        "# Get the list of book names in the Gutenberg corpus\n",
        "listBooks = nltk.corpus.gutenberg.fileids()\n",
        "\n",
        "# Print the list of book names\n",
        "#print(listBooks)\n",
        "\n",
        "\n",
        "my_dict = dict()\n",
        "\n",
        "\n",
        "# Search for specific books on a topic (e.g., drama)\n",
        "author=[]\n",
        "topic = 'History'\n",
        "Poetry_books = [book for book in listBooks if topic.lower() in nltk.corpus.gutenberg.raw(book).lower()]\n",
        "for book in Poetry_books:\n",
        "    author .append(nltk.corpus.gutenberg.raw(book).split('\\n')[0].replace('Author:', '').strip())\n",
        "for book in range(len(Poetry_books)):\n",
        "  my_dict[Poetry_books[book]] =author[book]\n",
        "  #print(f\"Book: {Poetry_books[book]}, Author: {author[book]}\")\n",
        "#print(f\"Books on {topic}: {Poetry_books}\")\n",
        "#print(len(Poetry_books))\n",
        "specific_word = \"by\"\n",
        "selected_wordList=[]\n",
        "combined_stringList=[]\n",
        "for book in author:\n",
        "  words = book.split() \n",
        "  index = words.index(specific_word)\n",
        "  selected_words = words[index+1:]\n",
        "  selected_words = selected_words[:-1]\n",
        "  selected_wordList.append(selected_words)\n",
        "for word in selected_wordList:\n",
        "  combined_string = ' '.join(word)\n",
        "  combined_stringList.append(combined_string)\n",
        "unique_items = list(set(combined_stringList))\n",
        "#print(len(unique_items)) \n",
        "#print(len(combined_stringList)) \n",
        "FiveBooks=unique_items[0:5]\n",
        "print(my_dict) \n"
      ]
    },
    {
      "cell_type": "code",
      "source": [
        "def read_book(name):\n",
        "    book=nltk.corpus.gutenberg.raw(name) \n",
        "    toknize_book=regexp_tokenize(book,r'(\\w{2,})[\\s]')\n",
        "    list_of_part=[]\n",
        "    for i in range(200):\n",
        "        start=random.randint(0,len(toknize_book)-100)\n",
        "        list_of_part.append(' '.join( toknize_book[start:start+100]))\n",
        "    df=pd.DataFrame({\"partitions\":list_of_part,\"label\":re.sub(r\".txt\",\"\",name)})\n",
        "    return df"
      ],
      "metadata": {
        "id": "4-RMG4NxI0Ty"
      },
      "execution_count": 70,
      "outputs": []
    },
    {
      "cell_type": "code",
      "source": [
        "for book,author in  my_dict.items():\n",
        "  print(read_book(book))"
      ],
      "metadata": {
        "colab": {
          "base_uri": "https://localhost:8080/"
        },
        "id": "2bde84SQImd0",
        "outputId": "213c0ea5-d8df-4549-a342-2b12f5dffcd3"
      },
      "execution_count": 79,
      "outputs": [
        {
          "output_type": "stream",
          "name": "stdout",
          "text": [
            "                                            partitions        label\n",
            "0    at He may have as strong sense of what would b...  austen-emma\n",
            "1    as as good well aware of the nearly equal impo...  austen-emma\n",
            "2    there was no scarlet fever at have been convin...  austen-emma\n",
            "3    opening the cause to for my suspense while all...  austen-emma\n",
            "4    material injury accrue either to body or but w...  austen-emma\n",
            "..                                                 ...          ...\n",
            "195  quite determined not to utter word that should...  austen-emma\n",
            "196  that she should have the very same distressing...  austen-emma\n",
            "197  as you Exactly No husbands and with so interes...  austen-emma\n",
            "198  been pleasant as he had found them in general ...  austen-emma\n",
            "199  replied most natural and the longer it the bet...  austen-emma\n",
            "\n",
            "[200 rows x 2 columns]\n",
            "                                            partitions              label\n",
            "0    may be owing to little further perseverance in...  austen-persuasion\n",
            "1    place of Do not mistake am not saying that she...  austen-persuasion\n",
            "2    and of everything most bewitching in his recep...  austen-persuasion\n",
            "3    to appear to comprehend so soon as she really ...  austen-persuasion\n",
            "4    rights would have though discomfited and he co...  austen-persuasion\n",
            "..                                                 ...                ...\n",
            "195  hearing many undesirable such how Mr Musgrove ...  austen-persuasion\n",
            "196  would one half of her should not be always so ...  austen-persuasion\n",
            "197  herself much nearer the end of the bench than ...  austen-persuasion\n",
            "198  bringing them together Their last meeting had ...  austen-persuasion\n",
            "199  three Came there about the year take You remem...  austen-persuasion\n",
            "\n",
            "[200 rows x 2 columns]\n",
            "                                            partitions         label\n",
            "0    pretty When they were seated in the dining Sir...  austen-sense\n",
            "1    did not think it vex me As bluntly as he could...  austen-sense\n",
            "2    We can ask your sisters some other you but the...  austen-sense\n",
            "3    any other Upon my he believe it is nothing and...  austen-sense\n",
            "4    more than little looking woman of uncordial wh...  austen-sense\n",
            "..                                                 ...           ...\n",
            "195  CHAPTER 22 who had never much toleration for a...  austen-sense\n",
            "196  this agitation increased as the evening drew S...  austen-sense\n",
            "197  forfeit the right of eldest might have puzzled...  austen-sense\n",
            "198  being led her towards and till they reached th...  austen-sense\n",
            "199  own charge at lodgings and heart thanked her f...  austen-sense\n",
            "\n",
            "[200 rows x 2 columns]\n",
            "                                            partitions          label\n",
            "0    to stay in here any She waited for some time w...  carroll-alice\n",
            "1    of showing off little of her Just think of wha...  carroll-alice\n",
            "2    Dormouse shook its head and without opening it...  carroll-alice\n",
            "3    think about and then It was no such Alice was ...  carroll-alice\n",
            "4    Mouse was so that her idea of the tale was som...  carroll-alice\n",
            "..                                                 ...            ...\n",
            "195  out with his you the first position in Alice b...  carroll-alice\n",
            "196  like an honest There was general clapping of h...  carroll-alice\n",
            "197  name is so please your said Alice very but she...  carroll-alice\n",
            "198  at last came rumbling of little and the sound ...  carroll-alice\n",
            "199  be when he finds out who But better take him h...  carroll-alice\n",
            "\n",
            "[200 rows x 2 columns]\n",
            "                                            partitions            label\n",
            "0    made military salute with his which Turnbull c...  chesterton-ball\n",
            "1    the wine and smoke all the cigars easily in sa...  chesterton-ball\n",
            "2    this mere terrifies man more than tigers or th...  chesterton-ball\n",
            "3    of was proceeding before he could bring out on...  chesterton-ball\n",
            "4    how do you know it will be the The man laid hi...  chesterton-ball\n",
            "..                                                 ...              ...\n",
            "195  It needed the full shock of the huge shadow of...  chesterton-ball\n",
            "196  thing whirled like windswept leaf down towards...  chesterton-ball\n",
            "197  what do you mean by apart from your MacIan mad...  chesterton-ball\n",
            "198  he did was something more extraordinary than t...  chesterton-ball\n",
            "199  might have belonged to some disused All the ti...  chesterton-ball\n",
            "\n",
            "[200 rows x 2 columns]\n",
            "                                            partitions             label\n",
            "0    very days of the Spanish and though needed pat...  chesterton-brown\n",
            "1    evoke the Quite the other in friends would be ...  chesterton-brown\n",
            "2    be following myself in minute or But Calhoun h...  chesterton-brown\n",
            "3    horribly bellowing Put down that he put down t...  chesterton-brown\n",
            "4    he could not dumb devil was in He had come clo...  chesterton-brown\n",
            "..                                                 ...               ...\n",
            "195  rivet ecstatic eyes on But The door of the roo...  chesterton-brown\n",
            "196  looks towards the slimy and holding her flamin...  chesterton-brown\n",
            "197  laughing and run down the passage towards its ...  chesterton-brown\n",
            "198  saying the Archbishop of daughter will be marr...  chesterton-brown\n",
            "199  They took leave of Father Brown at the corner ...  chesterton-brown\n",
            "\n",
            "[200 rows x 2 columns]\n",
            "                                            partitions                label\n",
            "0    came off Have you all got softening of the tha...  chesterton-thursday\n",
            "1    down such irregular ambassadors to such branch...  chesterton-thursday\n",
            "2    as for making yourself it is the last thing yo...  chesterton-thursday\n",
            "3    it need not be This branch has always had the ...  chesterton-thursday\n",
            "4    The poor man really has stake in the The rich ...  chesterton-thursday\n",
            "..                                                 ...                  ...\n",
            "195  down the law to men and particularly to The at...  chesterton-thursday\n",
            "196  real world in that Surely not many working men...  chesterton-thursday\n",
            "197  of the type that is best and in its way Syme d...  chesterton-thursday\n",
            "198  that floating ball of which in the full flush ...  chesterton-thursday\n",
            "199  of the swinging leaving his coffee An omnibus ...  chesterton-thursday\n",
            "\n",
            "[200 rows x 2 columns]\n",
            "                                            partitions              label\n",
            "0    his head down to his dropping the he buttons u...  edgeworth-parents\n",
            "1    and gentleness of but who always humoured him ...  edgeworth-parents\n",
            "2    cried evil communication corrupts good So with...  edgeworth-parents\n",
            "3    my heart misgave me that it was the very one h...  edgeworth-parents\n",
            "4    he made some inquiries after sprained and then...  edgeworth-parents\n",
            "..                                                 ...                ...\n",
            "195  not telling cried the way we are always to be ...  edgeworth-parents\n",
            "196  accept of her but that UNLUCKILY she had finis...  edgeworth-parents\n",
            "197  examine the he found the large salvers and cup...  edgeworth-parents\n",
            "198  the bowl for She was sorry to see such an old ...  edgeworth-parents\n",
            "199  the place of am not sure for both the young ge...  edgeworth-parents\n",
            "\n",
            "[200 rows x 2 columns]\n",
            "                                            partitions               label\n",
            "0    there three years say three but am pretty sure...  melville-moby_dick\n",
            "1    no helmet in the most battering Dry heat upon ...  melville-moby_dick\n",
            "2    Mark for days and days along his flowery he in...  melville-moby_dick\n",
            "3    must have been one at of his peculiar for ever...  melville-moby_dick\n",
            "4    let them He then went about his evening took o...  melville-moby_dick\n",
            "..                                                 ...                 ...\n",
            "195  that whaling has no aesthetically noble associ...  melville-moby_dick\n",
            "196  what noise ye There it is under the you hear i...  melville-moby_dick\n",
            "197  my For in the mere act of penning my thoughts ...  melville-moby_dick\n",
            "198  into the tube of his spouting and as that long...  melville-moby_dick\n",
            "199  rally for more tremendous Seizing that Ahab fi...  melville-moby_dick\n",
            "\n",
            "[200 rows x 2 columns]\n",
            "                                            partitions               label\n",
            "0    driues out so pitty Hath done this deed on For...  shakespeare-caesar\n",
            "1    so Caes The cause is in my will not That is en...  shakespeare-caesar\n",
            "2    him haue pause for Reply None none Then none h...  shakespeare-caesar\n",
            "3    leades on to all the voyage of their Is bound ...  shakespeare-caesar\n",
            "4    can mend you What st thou by Mend thou sawcy W...  shakespeare-caesar\n",
            "..                                                 ...                 ...\n",
            "195  nothing And so returne to and nothing bring me...  shakespeare-caesar\n",
            "196  it not haue it Lye downe good It may be shall ...  shakespeare-caesar\n",
            "197  What st thou by Mend thou sawcy Why Cobble you...  shakespeare-caesar\n",
            "198  other men Begin his Do not talke of But as and...  shakespeare-caesar\n",
            "199  to say will with patience and finde time Both ...  shakespeare-caesar\n",
            "\n",
            "[200 rows x 2 columns]\n",
            "                                            partitions               label\n",
            "0    our To cast beyond our selues in our As it is ...  shakespeare-hamlet\n",
            "1    as we deerely greeue For that which thou hast ...  shakespeare-hamlet\n",
            "2    in our peeuish Opposition Take it to tis fault...  shakespeare-hamlet\n",
            "3    call vp our wisest To let them know both what ...  shakespeare-hamlet\n",
            "4    hard vpon Thrift thrift the Funerall meats Did...  shakespeare-hamlet\n",
            "..                                                 ...                 ...\n",
            "195  to make them exclaim against their owne Succes...  shakespeare-hamlet\n",
            "196  you to Enter How What Letters my Lord from Thi...  shakespeare-hamlet\n",
            "197  he whose Sable Armes Blacke as his did the nig...  shakespeare-hamlet\n",
            "198  the Cryer had spoke my Nor do not saw the Ayre...  shakespeare-hamlet\n",
            "199  earth ere he if he be not rotten before he die...  shakespeare-hamlet\n",
            "\n",
            "[200 rows x 2 columns]\n",
            "                                            partitions           label\n",
            "0    but also lie at the last My face is my sinews ...  whitman-leaves\n",
            "1    the the Illustrious the passing illustrious th...  whitman-leaves\n",
            "2    more nor He is the arbiter of the he is the He...  whitman-leaves\n",
            "3    makes me at what is it in me that corresponds ...  whitman-leaves\n",
            "4    home among common And to hold our own in terri...  whitman-leaves\n",
            "..                                                 ...             ...\n",
            "195  that is 44 It is time to explain let us stand ...  whitman-leaves\n",
            "196  each old particular of those unnamed Song of P...  whitman-leaves\n",
            "197  In spiral routes by long As tacking ship upon ...  whitman-leaves\n",
            "198  that dead Cavalry Crossing Ford line in long a...  whitman-leaves\n",
            "199  but for minute see sight beyond all the pictur...  whitman-leaves\n",
            "\n",
            "[200 rows x 2 columns]\n"
          ]
        }
      ]
    },
    {
      "cell_type": "code",
      "source": [
        "for i in range(len(Poetry_books)):\n",
        "  book=nltk.corpus.gutenberg.raw(Poetry_books[i]) \n",
        "  toknize_book=regexp_tokenize(book,r'(\\w{2,})[\\s]')\n",
        "  len(toknize_book)\n",
        "  re.findall(r'([\\w]{2,})[\\s|\\.]', book)"
      ],
      "metadata": {
        "id": "sfasuFt7bvPH"
      },
      "execution_count": 81,
      "outputs": []
    },
    {
      "cell_type": "code",
      "source": [],
      "metadata": {
        "id": "ST7yv5j1no4b"
      },
      "execution_count": null,
      "outputs": []
    }
  ]
}